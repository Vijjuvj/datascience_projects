{
 "cells": [
  {
   "cell_type": "code",
   "execution_count": 1,
   "id": "a2cef11c",
   "metadata": {},
   "outputs": [],
   "source": [
    "import pickle"
   ]
  },
  {
   "cell_type": "code",
   "execution_count": 2,
   "id": "2c371fed",
   "metadata": {},
   "outputs": [],
   "source": [
    "model=pickle.load(open(\"calories.pkl\",\"rb\"))"
   ]
  },
  {
   "cell_type": "code",
   "execution_count": 3,
   "id": "95c1927a",
   "metadata": {},
   "outputs": [
    {
     "data": {
      "text/plain": [
       "LinearRegression()"
      ]
     },
     "execution_count": 3,
     "metadata": {},
     "output_type": "execute_result"
    }
   ],
   "source": [
    "model"
   ]
  },
  {
   "cell_type": "code",
   "execution_count": 4,
   "id": "b1f2bd76",
   "metadata": {},
   "outputs": [],
   "source": [
    "import warnings\n",
    "warnings.filterwarnings(\"ignore\")"
   ]
  },
  {
   "cell_type": "code",
   "execution_count": 5,
   "id": "181e3677",
   "metadata": {},
   "outputs": [
    {
     "data": {
      "text/plain": [
       "array([199.19635892])"
      ]
     },
     "execution_count": 5,
     "metadata": {},
     "output_type": "execute_result"
    }
   ],
   "source": [
    "model.predict([[0,68,190.0,94.0,29.0,105.0,40.8]])"
   ]
  },
  {
   "cell_type": "code",
   "execution_count": 6,
   "id": "51bb3155",
   "metadata": {},
   "outputs": [
    {
     "data": {
      "text/plain": [
       "array([58.03565656])"
      ]
     },
     "execution_count": 6,
     "metadata": {},
     "output_type": "execute_result"
    }
   ],
   "source": [
    "model.predict([[1,20,166.0,60.0,14.0,94.0,40.3]])"
   ]
  },
  {
   "cell_type": "code",
   "execution_count": null,
   "id": "e7d8d0e6",
   "metadata": {},
   "outputs": [],
   "source": []
  }
 ],
 "metadata": {
  "kernelspec": {
   "display_name": "Python 3 (ipykernel)",
   "language": "python",
   "name": "python3"
  },
  "language_info": {
   "codemirror_mode": {
    "name": "ipython",
    "version": 3
   },
   "file_extension": ".py",
   "mimetype": "text/x-python",
   "name": "python",
   "nbconvert_exporter": "python",
   "pygments_lexer": "ipython3",
   "version": "3.9.13"
  }
 },
 "nbformat": 4,
 "nbformat_minor": 5
}
