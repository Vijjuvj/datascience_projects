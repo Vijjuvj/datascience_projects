{
 "cells": [
  {
   "cell_type": "code",
   "execution_count": 3,
   "id": "7489eff0",
   "metadata": {},
   "outputs": [],
   "source": [
    "import os\n",
    "import cv2"
   ]
  },
  {
   "cell_type": "code",
   "execution_count": 4,
   "id": "c68131f7",
   "metadata": {},
   "outputs": [],
   "source": [
    "from keras.preprocessing import image"
   ]
  },
  {
   "cell_type": "code",
   "execution_count": 5,
   "id": "66076f4c",
   "metadata": {},
   "outputs": [],
   "source": [
    "data=[]\n",
    "categories=[\"with_mask\",\"without_mask\"]\n",
    "for category in categories:\n",
    "    label=categories.index(category)\n",
    "    path=os.path.join(\"train\",category)\n",
    "    \n",
    "    for file in os.listdir(path):\n",
    "        img_path=os.path.join(path,file)\n",
    "        img=cv2.imread(img_path)\n",
    "        img=cv2.resize(img,(224,224))\n",
    "        data.append([img,label])"
   ]
  },
  {
   "cell_type": "code",
   "execution_count": 6,
   "id": "9c7ee219",
   "metadata": {},
   "outputs": [
    {
     "data": {
      "text/plain": [
       "2074"
      ]
     },
     "execution_count": 6,
     "metadata": {},
     "output_type": "execute_result"
    }
   ],
   "source": [
    "len(data)"
   ]
  },
  {
   "cell_type": "code",
   "execution_count": 7,
   "id": "950c260d",
   "metadata": {},
   "outputs": [],
   "source": [
    "import random"
   ]
  },
  {
   "cell_type": "code",
   "execution_count": 8,
   "id": "17fc5558",
   "metadata": {},
   "outputs": [],
   "source": [
    "random.shuffle(data)"
   ]
  },
  {
   "cell_type": "code",
   "execution_count": 9,
   "id": "e1a5df9f",
   "metadata": {},
   "outputs": [],
   "source": [
    "X=[]\n",
    "y=[]\n",
    "for features,label in data:\n",
    "    X.append(features)\n",
    "    y.append(label)"
   ]
  },
  {
   "cell_type": "code",
   "execution_count": 10,
   "id": "cfe9f427",
   "metadata": {},
   "outputs": [
    {
     "data": {
      "text/plain": [
       "2074"
      ]
     },
     "execution_count": 10,
     "metadata": {},
     "output_type": "execute_result"
    }
   ],
   "source": [
    "len(X)"
   ]
  },
  {
   "cell_type": "code",
   "execution_count": 11,
   "id": "e792c700",
   "metadata": {},
   "outputs": [
    {
     "data": {
      "text/plain": [
       "2074"
      ]
     },
     "execution_count": 11,
     "metadata": {},
     "output_type": "execute_result"
    }
   ],
   "source": [
    "len(y)"
   ]
  },
  {
   "cell_type": "code",
   "execution_count": 12,
   "id": "0a08ef7e",
   "metadata": {},
   "outputs": [],
   "source": [
    "import numpy as np"
   ]
  },
  {
   "cell_type": "code",
   "execution_count": 13,
   "id": "ae8243c1",
   "metadata": {},
   "outputs": [],
   "source": [
    "X=np.array(X)\n",
    "y=np.array(y)"
   ]
  },
  {
   "cell_type": "code",
   "execution_count": 14,
   "id": "5defd55d",
   "metadata": {},
   "outputs": [
    {
     "data": {
      "text/plain": [
       "(2074, 224, 224, 3)"
      ]
     },
     "execution_count": 14,
     "metadata": {},
     "output_type": "execute_result"
    }
   ],
   "source": [
    "X.shape"
   ]
  },
  {
   "cell_type": "code",
   "execution_count": 15,
   "id": "ec41418c",
   "metadata": {},
   "outputs": [
    {
     "data": {
      "text/plain": [
       "(2074,)"
      ]
     },
     "execution_count": 15,
     "metadata": {},
     "output_type": "execute_result"
    }
   ],
   "source": [
    "y.shape"
   ]
  },
  {
   "cell_type": "code",
   "execution_count": 16,
   "id": "7d5b7997",
   "metadata": {},
   "outputs": [
    {
     "data": {
      "text/plain": [
       "array([0, 1, 1, ..., 0, 1, 0])"
      ]
     },
     "execution_count": 16,
     "metadata": {},
     "output_type": "execute_result"
    }
   ],
   "source": [
    "y"
   ]
  },
  {
   "cell_type": "code",
   "execution_count": 17,
   "id": "10cfe766",
   "metadata": {},
   "outputs": [
    {
     "data": {
      "text/plain": [
       "array([[[[  0,   0,   0],\n",
       "         [  1,   2,   1],\n",
       "         [  4,   4,   3],\n",
       "         ...,\n",
       "         [197, 216, 231],\n",
       "         [197, 216, 231],\n",
       "         [197, 216, 231]],\n",
       "\n",
       "        [[  0,   1,   0],\n",
       "         [  1,   2,   1],\n",
       "         [  2,   3,   2],\n",
       "         ...,\n",
       "         [196, 215, 231],\n",
       "         [196, 215, 231],\n",
       "         [196, 215, 231]],\n",
       "\n",
       "        [[  0,   3,   0],\n",
       "         [  0,   2,   0],\n",
       "         [  0,   1,   0],\n",
       "         ...,\n",
       "         [196, 215, 230],\n",
       "         [196, 215, 230],\n",
       "         [196, 215, 230]],\n",
       "\n",
       "        ...,\n",
       "\n",
       "        [[ 13,  29,  65],\n",
       "         [ 13,  29,  66],\n",
       "         [ 14,  30,  67],\n",
       "         ...,\n",
       "         [182, 210, 227],\n",
       "         [183, 210, 226],\n",
       "         [184, 210, 226]],\n",
       "\n",
       "        [[ 14,  30,  65],\n",
       "         [ 14,  30,  66],\n",
       "         [ 13,  30,  67],\n",
       "         ...,\n",
       "         [181, 210, 228],\n",
       "         [182, 210, 227],\n",
       "         [183, 210, 226]],\n",
       "\n",
       "        [[ 14,  30,  66],\n",
       "         [ 13,  30,  67],\n",
       "         [ 13,  31,  68],\n",
       "         ...,\n",
       "         [180, 210, 229],\n",
       "         [181, 210, 228],\n",
       "         [182, 210, 227]]],\n",
       "\n",
       "\n",
       "       [[[ 16,  31,  57],\n",
       "         [ 15,  31,  56],\n",
       "         [ 14,  30,  56],\n",
       "         ...,\n",
       "         [ 39,  43,  61],\n",
       "         [ 36,  40,  59],\n",
       "         [ 35,  39,  58]],\n",
       "\n",
       "        [[ 16,  31,  57],\n",
       "         [ 15,  31,  57],\n",
       "         [ 15,  30,  57],\n",
       "         ...,\n",
       "         [ 39,  42,  62],\n",
       "         [ 37,  40,  59],\n",
       "         [ 35,  39,  58]],\n",
       "\n",
       "        [[ 16,  31,  58],\n",
       "         [ 16,  31,  58],\n",
       "         [ 16,  31,  58],\n",
       "         ...,\n",
       "         [ 40,  43,  62],\n",
       "         [ 37,  40,  59],\n",
       "         [ 36,  39,  58]],\n",
       "\n",
       "        ...,\n",
       "\n",
       "        [[ 34,  42,  58],\n",
       "         [ 33,  40,  55],\n",
       "         [ 31,  36,  50],\n",
       "         ...,\n",
       "         [ 52,  54,  74],\n",
       "         [ 51,  53,  73],\n",
       "         [ 50,  52,  72]],\n",
       "\n",
       "        [[ 35,  42,  58],\n",
       "         [ 33,  39,  55],\n",
       "         [ 31,  35,  51],\n",
       "         ...,\n",
       "         [ 51,  54,  74],\n",
       "         [ 50,  53,  73],\n",
       "         [ 49,  52,  72]],\n",
       "\n",
       "        [[ 35,  42,  59],\n",
       "         [ 33,  39,  56],\n",
       "         [ 30,  34,  51],\n",
       "         ...,\n",
       "         [ 50,  54,  75],\n",
       "         [ 49,  53,  74],\n",
       "         [ 49,  52,  73]]],\n",
       "\n",
       "\n",
       "       [[[ 78,  77,  82],\n",
       "         [ 80,  79,  84],\n",
       "         [ 82,  82,  88],\n",
       "         ...,\n",
       "         [ 18,  13,  13],\n",
       "         [ 17,  12,  11],\n",
       "         [ 16,  11,  10]],\n",
       "\n",
       "        [[ 77,  76,  81],\n",
       "         [ 79,  78,  84],\n",
       "         [ 82,  81,  88],\n",
       "         ...,\n",
       "         [ 18,  13,  13],\n",
       "         [ 17,  12,  11],\n",
       "         [ 16,  11,  10]],\n",
       "\n",
       "        [[ 75,  73,  80],\n",
       "         [ 77,  76,  83],\n",
       "         [ 81,  80,  87],\n",
       "         ...,\n",
       "         [ 19,  14,  14],\n",
       "         [ 17,  13,  12],\n",
       "         [ 17,  12,  11]],\n",
       "\n",
       "        ...,\n",
       "\n",
       "        [[ 38,  38,  44],\n",
       "         [ 43,  42,  47],\n",
       "         [ 51,  49,  51],\n",
       "         ...,\n",
       "         [ 23,  14,  12],\n",
       "         [ 25,  16,  13],\n",
       "         [ 26,  17,  14]],\n",
       "\n",
       "        [[ 39,  39,  43],\n",
       "         [ 45,  44,  46],\n",
       "         [ 55,  52,  52],\n",
       "         ...,\n",
       "         [ 19,  10,  10],\n",
       "         [ 22,  13,  11],\n",
       "         [ 23,  15,  12]],\n",
       "\n",
       "        [[ 40,  40,  43],\n",
       "         [ 47,  45,  46],\n",
       "         [ 58,  54,  52],\n",
       "         ...,\n",
       "         [ 17,   8,   8],\n",
       "         [ 19,  11,  11],\n",
       "         [ 21,  13,  12]]],\n",
       "\n",
       "\n",
       "       ...,\n",
       "\n",
       "\n",
       "       [[[ 58,  53,  59],\n",
       "         [ 58,  53,  59],\n",
       "         [ 58,  53,  59],\n",
       "         ...,\n",
       "         [ 89,  92, 196],\n",
       "         [ 89,  92, 196],\n",
       "         [ 89,  92, 196]],\n",
       "\n",
       "        [[ 58,  53,  59],\n",
       "         [ 58,  53,  59],\n",
       "         [ 58,  53,  59],\n",
       "         ...,\n",
       "         [ 89,  92, 196],\n",
       "         [ 89,  92, 196],\n",
       "         [ 89,  92, 196]],\n",
       "\n",
       "        [[ 58,  53,  59],\n",
       "         [ 58,  53,  59],\n",
       "         [ 58,  53,  59],\n",
       "         ...,\n",
       "         [ 89,  92, 196],\n",
       "         [ 89,  92, 196],\n",
       "         [ 89,  92, 196]],\n",
       "\n",
       "        ...,\n",
       "\n",
       "        [[ 83,  56,  49],\n",
       "         [ 83,  56,  49],\n",
       "         [ 83,  56,  49],\n",
       "         ...,\n",
       "         [100, 108,  90],\n",
       "         [100, 108,  89],\n",
       "         [100, 108,  89]],\n",
       "\n",
       "        [[ 83,  56,  49],\n",
       "         [ 83,  56,  49],\n",
       "         [ 83,  56,  49],\n",
       "         ...,\n",
       "         [100, 108,  89],\n",
       "         [100, 108,  89],\n",
       "         [100, 108,  89]],\n",
       "\n",
       "        [[ 83,  56,  49],\n",
       "         [ 83,  56,  49],\n",
       "         [ 83,  56,  49],\n",
       "         ...,\n",
       "         [100, 108,  89],\n",
       "         [100, 108,  89],\n",
       "         [100, 108,  89]]],\n",
       "\n",
       "\n",
       "       [[[195, 191, 193],\n",
       "         [191, 187, 189],\n",
       "         [184, 182, 183],\n",
       "         ...,\n",
       "         [237, 236, 236],\n",
       "         [239, 237, 238],\n",
       "         [240, 238, 239]],\n",
       "\n",
       "        [[194, 191, 193],\n",
       "         [190, 187, 189],\n",
       "         [184, 182, 184],\n",
       "         ...,\n",
       "         [238, 236, 236],\n",
       "         [239, 237, 237],\n",
       "         [240, 238, 238]],\n",
       "\n",
       "        [[192, 190, 193],\n",
       "         [189, 187, 190],\n",
       "         [185, 181, 185],\n",
       "         ...,\n",
       "         [238, 235, 235],\n",
       "         [240, 236, 236],\n",
       "         [241, 237, 237]],\n",
       "\n",
       "        ...,\n",
       "\n",
       "        [[  7,   6,   8],\n",
       "         [  7,   6,   8],\n",
       "         [  7,   6,   8],\n",
       "         ...,\n",
       "         [ 24,  30,  48],\n",
       "         [ 19,  26,  43],\n",
       "         [ 17,  23,  41]],\n",
       "\n",
       "        [[  7,   6,   8],\n",
       "         [  7,   6,   8],\n",
       "         [  7,   6,   8],\n",
       "         ...,\n",
       "         [ 24,  31,  48],\n",
       "         [ 18,  24,  42],\n",
       "         [ 14,  20,  38]],\n",
       "\n",
       "        [[  7,   6,   8],\n",
       "         [  7,   6,   8],\n",
       "         [  7,   6,   8],\n",
       "         ...,\n",
       "         [ 24,  31,  48],\n",
       "         [ 17,  24,  40],\n",
       "         [ 12,  19,  36]]],\n",
       "\n",
       "\n",
       "       [[[ 52,  50,  57],\n",
       "         [ 52,  50,  57],\n",
       "         [ 52,  51,  57],\n",
       "         ...,\n",
       "         [ 38,  46,  56],\n",
       "         [ 38,  46,  55],\n",
       "         [ 38,  46,  55]],\n",
       "\n",
       "        [[ 52,  50,  57],\n",
       "         [ 52,  50,  57],\n",
       "         [ 52,  51,  57],\n",
       "         ...,\n",
       "         [ 37,  46,  55],\n",
       "         [ 37,  46,  55],\n",
       "         [ 37,  46,  55]],\n",
       "\n",
       "        [[ 53,  51,  58],\n",
       "         [ 53,  51,  58],\n",
       "         [ 53,  51,  58],\n",
       "         ...,\n",
       "         [ 37,  45,  55],\n",
       "         [ 37,  45,  55],\n",
       "         [ 37,  45,  55]],\n",
       "\n",
       "        ...,\n",
       "\n",
       "        [[ 98, 114, 128],\n",
       "         [ 98, 114, 128],\n",
       "         [ 98, 114, 128],\n",
       "         ...,\n",
       "         [ 57,  60,  67],\n",
       "         [ 57,  61,  68],\n",
       "         [ 57,  61,  68]],\n",
       "\n",
       "        [[ 98, 113, 128],\n",
       "         [ 98, 113, 128],\n",
       "         [ 98, 114, 128],\n",
       "         ...,\n",
       "         [ 57,  60,  67],\n",
       "         [ 57,  60,  68],\n",
       "         [ 58,  61,  68]],\n",
       "\n",
       "        [[ 98, 113, 128],\n",
       "         [ 98, 113, 128],\n",
       "         [ 98, 114, 128],\n",
       "         ...,\n",
       "         [ 57,  60,  68],\n",
       "         [ 58,  60,  68],\n",
       "         [ 58,  61,  68]]]], dtype=uint8)"
      ]
     },
     "execution_count": 17,
     "metadata": {},
     "output_type": "execute_result"
    }
   ],
   "source": [
    "X"
   ]
  },
  {
   "cell_type": "code",
   "execution_count": 18,
   "id": "e0841b90",
   "metadata": {},
   "outputs": [],
   "source": [
    "X=X/255"
   ]
  },
  {
   "cell_type": "code",
   "execution_count": 19,
   "id": "b256d90c",
   "metadata": {},
   "outputs": [],
   "source": [
    "from sklearn.model_selection import train_test_split"
   ]
  },
  {
   "cell_type": "code",
   "execution_count": 20,
   "id": "b464b9f8",
   "metadata": {},
   "outputs": [],
   "source": [
    "X_train,X_test,y_train,y_test=train_test_split(X,y,test_size=0.2)"
   ]
  },
  {
   "cell_type": "code",
   "execution_count": 21,
   "id": "2756a8c2",
   "metadata": {},
   "outputs": [
    {
     "data": {
      "text/plain": [
       "(1659, 224, 224, 3)"
      ]
     },
     "execution_count": 21,
     "metadata": {},
     "output_type": "execute_result"
    }
   ],
   "source": [
    "X_train.shape"
   ]
  },
  {
   "cell_type": "code",
   "execution_count": 22,
   "id": "501f7a80",
   "metadata": {},
   "outputs": [
    {
     "data": {
      "text/plain": [
       "(415, 224, 224, 3)"
      ]
     },
     "execution_count": 22,
     "metadata": {},
     "output_type": "execute_result"
    }
   ],
   "source": [
    "X_test.shape"
   ]
  },
  {
   "cell_type": "code",
   "execution_count": 23,
   "id": "7b5ae06a",
   "metadata": {},
   "outputs": [],
   "source": [
    "from keras.applications.vgg16 import VGG16"
   ]
  },
  {
   "cell_type": "code",
   "execution_count": 24,
   "id": "f4af3aa6",
   "metadata": {},
   "outputs": [],
   "source": [
    "vgg=VGG16()"
   ]
  },
  {
   "cell_type": "code",
   "execution_count": 25,
   "id": "ac673720",
   "metadata": {},
   "outputs": [
    {
     "name": "stdout",
     "output_type": "stream",
     "text": [
      "Model: \"vgg16\"\n",
      "_________________________________________________________________\n",
      " Layer (type)                Output Shape              Param #   \n",
      "=================================================================\n",
      " input_1 (InputLayer)        [(None, 224, 224, 3)]     0         \n",
      "                                                                 \n",
      " block1_conv1 (Conv2D)       (None, 224, 224, 64)      1792      \n",
      "                                                                 \n",
      " block1_conv2 (Conv2D)       (None, 224, 224, 64)      36928     \n",
      "                                                                 \n",
      " block1_pool (MaxPooling2D)  (None, 112, 112, 64)      0         \n",
      "                                                                 \n",
      " block2_conv1 (Conv2D)       (None, 112, 112, 128)     73856     \n",
      "                                                                 \n",
      " block2_conv2 (Conv2D)       (None, 112, 112, 128)     147584    \n",
      "                                                                 \n",
      " block2_pool (MaxPooling2D)  (None, 56, 56, 128)       0         \n",
      "                                                                 \n",
      " block3_conv1 (Conv2D)       (None, 56, 56, 256)       295168    \n",
      "                                                                 \n",
      " block3_conv2 (Conv2D)       (None, 56, 56, 256)       590080    \n",
      "                                                                 \n",
      " block3_conv3 (Conv2D)       (None, 56, 56, 256)       590080    \n",
      "                                                                 \n",
      " block3_pool (MaxPooling2D)  (None, 28, 28, 256)       0         \n",
      "                                                                 \n",
      " block4_conv1 (Conv2D)       (None, 28, 28, 512)       1180160   \n",
      "                                                                 \n",
      " block4_conv2 (Conv2D)       (None, 28, 28, 512)       2359808   \n",
      "                                                                 \n",
      " block4_conv3 (Conv2D)       (None, 28, 28, 512)       2359808   \n",
      "                                                                 \n",
      " block4_pool (MaxPooling2D)  (None, 14, 14, 512)       0         \n",
      "                                                                 \n",
      " block5_conv1 (Conv2D)       (None, 14, 14, 512)       2359808   \n",
      "                                                                 \n",
      " block5_conv2 (Conv2D)       (None, 14, 14, 512)       2359808   \n",
      "                                                                 \n",
      " block5_conv3 (Conv2D)       (None, 14, 14, 512)       2359808   \n",
      "                                                                 \n",
      " block5_pool (MaxPooling2D)  (None, 7, 7, 512)         0         \n",
      "                                                                 \n",
      " flatten (Flatten)           (None, 25088)             0         \n",
      "                                                                 \n",
      " fc1 (Dense)                 (None, 4096)              102764544 \n",
      "                                                                 \n",
      " fc2 (Dense)                 (None, 4096)              16781312  \n",
      "                                                                 \n",
      " predictions (Dense)         (None, 1000)              4097000   \n",
      "                                                                 \n",
      "=================================================================\n",
      "Total params: 138,357,544\n",
      "Trainable params: 138,357,544\n",
      "Non-trainable params: 0\n",
      "_________________________________________________________________\n"
     ]
    }
   ],
   "source": [
    "vgg.summary()"
   ]
  },
  {
   "cell_type": "code",
   "execution_count": 26,
   "id": "a964025f",
   "metadata": {},
   "outputs": [],
   "source": [
    "from keras import Sequential"
   ]
  },
  {
   "cell_type": "code",
   "execution_count": 27,
   "id": "cad95847",
   "metadata": {},
   "outputs": [],
   "source": [
    "model=Sequential()"
   ]
  },
  {
   "cell_type": "code",
   "execution_count": 28,
   "id": "fca71e7b",
   "metadata": {},
   "outputs": [],
   "source": [
    "for layer in vgg.layers[:-1]:\n",
    "    model.add(layer)"
   ]
  },
  {
   "cell_type": "code",
   "execution_count": 29,
   "id": "93a07a74",
   "metadata": {},
   "outputs": [
    {
     "name": "stdout",
     "output_type": "stream",
     "text": [
      "Model: \"sequential\"\n",
      "_________________________________________________________________\n",
      " Layer (type)                Output Shape              Param #   \n",
      "=================================================================\n",
      " block1_conv1 (Conv2D)       (None, 224, 224, 64)      1792      \n",
      "                                                                 \n",
      " block1_conv2 (Conv2D)       (None, 224, 224, 64)      36928     \n",
      "                                                                 \n",
      " block1_pool (MaxPooling2D)  (None, 112, 112, 64)      0         \n",
      "                                                                 \n",
      " block2_conv1 (Conv2D)       (None, 112, 112, 128)     73856     \n",
      "                                                                 \n",
      " block2_conv2 (Conv2D)       (None, 112, 112, 128)     147584    \n",
      "                                                                 \n",
      " block2_pool (MaxPooling2D)  (None, 56, 56, 128)       0         \n",
      "                                                                 \n",
      " block3_conv1 (Conv2D)       (None, 56, 56, 256)       295168    \n",
      "                                                                 \n",
      " block3_conv2 (Conv2D)       (None, 56, 56, 256)       590080    \n",
      "                                                                 \n",
      " block3_conv3 (Conv2D)       (None, 56, 56, 256)       590080    \n",
      "                                                                 \n",
      " block3_pool (MaxPooling2D)  (None, 28, 28, 256)       0         \n",
      "                                                                 \n",
      " block4_conv1 (Conv2D)       (None, 28, 28, 512)       1180160   \n",
      "                                                                 \n",
      " block4_conv2 (Conv2D)       (None, 28, 28, 512)       2359808   \n",
      "                                                                 \n",
      " block4_conv3 (Conv2D)       (None, 28, 28, 512)       2359808   \n",
      "                                                                 \n",
      " block4_pool (MaxPooling2D)  (None, 14, 14, 512)       0         \n",
      "                                                                 \n",
      " block5_conv1 (Conv2D)       (None, 14, 14, 512)       2359808   \n",
      "                                                                 \n",
      " block5_conv2 (Conv2D)       (None, 14, 14, 512)       2359808   \n",
      "                                                                 \n",
      " block5_conv3 (Conv2D)       (None, 14, 14, 512)       2359808   \n",
      "                                                                 \n",
      " block5_pool (MaxPooling2D)  (None, 7, 7, 512)         0         \n",
      "                                                                 \n",
      " flatten (Flatten)           (None, 25088)             0         \n",
      "                                                                 \n",
      " fc1 (Dense)                 (None, 4096)              102764544 \n",
      "                                                                 \n",
      " fc2 (Dense)                 (None, 4096)              16781312  \n",
      "                                                                 \n",
      "=================================================================\n",
      "Total params: 134,260,544\n",
      "Trainable params: 134,260,544\n",
      "Non-trainable params: 0\n",
      "_________________________________________________________________\n"
     ]
    }
   ],
   "source": [
    "model.summary()"
   ]
  },
  {
   "cell_type": "code",
   "execution_count": 30,
   "id": "35aa5c3d",
   "metadata": {},
   "outputs": [],
   "source": [
    "for layer in model.layers:\n",
    "    layer.trainable=False"
   ]
  },
  {
   "cell_type": "code",
   "execution_count": 31,
   "id": "b07e4974",
   "metadata": {},
   "outputs": [
    {
     "name": "stdout",
     "output_type": "stream",
     "text": [
      "Model: \"sequential\"\n",
      "_________________________________________________________________\n",
      " Layer (type)                Output Shape              Param #   \n",
      "=================================================================\n",
      " block1_conv1 (Conv2D)       (None, 224, 224, 64)      1792      \n",
      "                                                                 \n",
      " block1_conv2 (Conv2D)       (None, 224, 224, 64)      36928     \n",
      "                                                                 \n",
      " block1_pool (MaxPooling2D)  (None, 112, 112, 64)      0         \n",
      "                                                                 \n",
      " block2_conv1 (Conv2D)       (None, 112, 112, 128)     73856     \n",
      "                                                                 \n",
      " block2_conv2 (Conv2D)       (None, 112, 112, 128)     147584    \n",
      "                                                                 \n",
      " block2_pool (MaxPooling2D)  (None, 56, 56, 128)       0         \n",
      "                                                                 \n",
      " block3_conv1 (Conv2D)       (None, 56, 56, 256)       295168    \n",
      "                                                                 \n",
      " block3_conv2 (Conv2D)       (None, 56, 56, 256)       590080    \n",
      "                                                                 \n",
      " block3_conv3 (Conv2D)       (None, 56, 56, 256)       590080    \n",
      "                                                                 \n",
      " block3_pool (MaxPooling2D)  (None, 28, 28, 256)       0         \n",
      "                                                                 \n",
      " block4_conv1 (Conv2D)       (None, 28, 28, 512)       1180160   \n",
      "                                                                 \n",
      " block4_conv2 (Conv2D)       (None, 28, 28, 512)       2359808   \n",
      "                                                                 \n",
      " block4_conv3 (Conv2D)       (None, 28, 28, 512)       2359808   \n",
      "                                                                 \n",
      " block4_pool (MaxPooling2D)  (None, 14, 14, 512)       0         \n",
      "                                                                 \n",
      " block5_conv1 (Conv2D)       (None, 14, 14, 512)       2359808   \n",
      "                                                                 \n",
      " block5_conv2 (Conv2D)       (None, 14, 14, 512)       2359808   \n",
      "                                                                 \n",
      " block5_conv3 (Conv2D)       (None, 14, 14, 512)       2359808   \n",
      "                                                                 \n",
      " block5_pool (MaxPooling2D)  (None, 7, 7, 512)         0         \n",
      "                                                                 \n",
      " flatten (Flatten)           (None, 25088)             0         \n",
      "                                                                 \n",
      " fc1 (Dense)                 (None, 4096)              102764544 \n",
      "                                                                 \n",
      " fc2 (Dense)                 (None, 4096)              16781312  \n",
      "                                                                 \n",
      "=================================================================\n",
      "Total params: 134,260,544\n",
      "Trainable params: 0\n",
      "Non-trainable params: 134,260,544\n",
      "_________________________________________________________________\n"
     ]
    }
   ],
   "source": [
    "model.summary()"
   ]
  },
  {
   "cell_type": "code",
   "execution_count": 32,
   "id": "b0e5c4f9",
   "metadata": {},
   "outputs": [],
   "source": [
    "from keras.layers import Dense"
   ]
  },
  {
   "cell_type": "code",
   "execution_count": 33,
   "id": "84d7e158",
   "metadata": {},
   "outputs": [],
   "source": [
    "model.add(Dense(1,activation=\"sigmoid\"))"
   ]
  },
  {
   "cell_type": "code",
   "execution_count": 34,
   "id": "67248d05",
   "metadata": {},
   "outputs": [
    {
     "name": "stdout",
     "output_type": "stream",
     "text": [
      "Model: \"sequential\"\n",
      "_________________________________________________________________\n",
      " Layer (type)                Output Shape              Param #   \n",
      "=================================================================\n",
      " block1_conv1 (Conv2D)       (None, 224, 224, 64)      1792      \n",
      "                                                                 \n",
      " block1_conv2 (Conv2D)       (None, 224, 224, 64)      36928     \n",
      "                                                                 \n",
      " block1_pool (MaxPooling2D)  (None, 112, 112, 64)      0         \n",
      "                                                                 \n",
      " block2_conv1 (Conv2D)       (None, 112, 112, 128)     73856     \n",
      "                                                                 \n",
      " block2_conv2 (Conv2D)       (None, 112, 112, 128)     147584    \n",
      "                                                                 \n",
      " block2_pool (MaxPooling2D)  (None, 56, 56, 128)       0         \n",
      "                                                                 \n",
      " block3_conv1 (Conv2D)       (None, 56, 56, 256)       295168    \n",
      "                                                                 \n",
      " block3_conv2 (Conv2D)       (None, 56, 56, 256)       590080    \n",
      "                                                                 \n",
      " block3_conv3 (Conv2D)       (None, 56, 56, 256)       590080    \n",
      "                                                                 \n",
      " block3_pool (MaxPooling2D)  (None, 28, 28, 256)       0         \n",
      "                                                                 \n",
      " block4_conv1 (Conv2D)       (None, 28, 28, 512)       1180160   \n",
      "                                                                 \n",
      " block4_conv2 (Conv2D)       (None, 28, 28, 512)       2359808   \n",
      "                                                                 \n",
      " block4_conv3 (Conv2D)       (None, 28, 28, 512)       2359808   \n",
      "                                                                 \n",
      " block4_pool (MaxPooling2D)  (None, 14, 14, 512)       0         \n",
      "                                                                 \n",
      " block5_conv1 (Conv2D)       (None, 14, 14, 512)       2359808   \n",
      "                                                                 \n",
      " block5_conv2 (Conv2D)       (None, 14, 14, 512)       2359808   \n",
      "                                                                 \n",
      " block5_conv3 (Conv2D)       (None, 14, 14, 512)       2359808   \n",
      "                                                                 \n",
      " block5_pool (MaxPooling2D)  (None, 7, 7, 512)         0         \n",
      "                                                                 \n",
      " flatten (Flatten)           (None, 25088)             0         \n",
      "                                                                 \n",
      " fc1 (Dense)                 (None, 4096)              102764544 \n",
      "                                                                 \n",
      " fc2 (Dense)                 (None, 4096)              16781312  \n",
      "                                                                 \n",
      " dense (Dense)               (None, 1)                 4097      \n",
      "                                                                 \n",
      "=================================================================\n",
      "Total params: 134,264,641\n",
      "Trainable params: 4,097\n",
      "Non-trainable params: 134,260,544\n",
      "_________________________________________________________________\n"
     ]
    }
   ],
   "source": [
    "model.summary()"
   ]
  },
  {
   "cell_type": "code",
   "execution_count": 35,
   "id": "cad4ae3f",
   "metadata": {},
   "outputs": [],
   "source": [
    "model.compile(optimizer=\"Adam\",loss=\"binary_crossentropy\",metrics=['accuracy'])"
   ]
  },
  {
   "cell_type": "code",
   "execution_count": 37,
   "id": "2df93d05",
   "metadata": {},
   "outputs": [
    {
     "name": "stdout",
     "output_type": "stream",
     "text": [
      "Epoch 1/4\n",
      "52/52 [==============================] - 1891s 36s/step - loss: 0.4844 - accuracy: 0.8077 - val_loss: 0.3951 - val_accuracy: 0.8892\n",
      "Epoch 2/4\n",
      "52/52 [==============================] - 1757s 34s/step - loss: 0.3498 - accuracy: 0.8921 - val_loss: 0.3239 - val_accuracy: 0.8916\n",
      "Epoch 3/4\n",
      "52/52 [==============================] - 1741s 34s/step - loss: 0.3088 - accuracy: 0.8867 - val_loss: 0.2836 - val_accuracy: 0.9036\n",
      "Epoch 4/4\n",
      "52/52 [==============================] - 1748s 34s/step - loss: 0.2726 - accuracy: 0.9066 - val_loss: 0.2660 - val_accuracy: 0.9205\n"
     ]
    },
    {
     "data": {
      "text/plain": [
       "<keras.callbacks.History at 0x1f89eb064c0>"
      ]
     },
     "execution_count": 37,
     "metadata": {},
     "output_type": "execute_result"
    }
   ],
   "source": [
    "model.fit(X_train,y_train,epochs=4,validation_data=(X_test,y_test))"
   ]
  },
  {
   "cell_type": "code",
   "execution_count": 38,
   "id": "49506dd1",
   "metadata": {},
   "outputs": [],
   "source": [
    "import pickle"
   ]
  },
  {
   "cell_type": "code",
   "execution_count": 39,
   "id": "8fa893b1",
   "metadata": {},
   "outputs": [],
   "source": [
    "with open(\"facemask.pkl\",\"wb\") as f:\n",
    "    pickle.dump(model,f)"
   ]
  },
  {
   "cell_type": "code",
   "execution_count": 40,
   "id": "5c6eaec8",
   "metadata": {},
   "outputs": [],
   "source": [
    "sample=cv2.imread(\"test/without_mask/3.png\")"
   ]
  },
  {
   "cell_type": "code",
   "execution_count": 42,
   "id": "0fe3120b",
   "metadata": {},
   "outputs": [],
   "source": [
    "import matplotlib.pyplot as plt"
   ]
  },
  {
   "cell_type": "code",
   "execution_count": 43,
   "id": "4a8296c8",
   "metadata": {},
   "outputs": [
    {
     "data": {
      "text/plain": [
       "<matplotlib.image.AxesImage at 0x1f8a15f7760>"
      ]
     },
     "execution_count": 43,
     "metadata": {},
     "output_type": "execute_result"
    },
    {
     "data": {
      "image/png": "[encoded data removed]",
      "text/plain": [
       "<Figure size 640x480 with 1 Axes>"
      ]
     },
     "metadata": {},
     "output_type": "display_data"
    }
   ],
   "source": [
    "plt.imshow(sample)"
   ]
  },
  {
   "cell_type": "code",
   "execution_count": 44,
   "id": "cb4f488e",
   "metadata": {},
   "outputs": [],
   "source": [
    "sample=cv2.resize(sample,(224,224))"
   ]
  },
  {
   "cell_type": "code",
   "execution_count": 47,
   "id": "03b60312",
   "metadata": {},
   "outputs": [
    {
     "name": "stdout",
     "output_type": "stream",
     "text": [
      "1/1 [==============================] - 2s 2s/step\n"
     ]
    }
   ],
   "source": [
    "y_pred=model.predict(sample.reshape(1,224,224,3))"
   ]
  },
  {
   "cell_type": "code",
   "execution_count": 48,
   "id": "81818488",
   "metadata": {},
   "outputs": [
    {
     "data": {
      "text/plain": [
       "array([[0.9999403]], dtype=float32)"
      ]
     },
     "execution_count": 48,
     "metadata": {},
     "output_type": "execute_result"
    }
   ],
   "source": [
    "y_pred"
   ]
  },
  {
   "cell_type": "code",
   "execution_count": 49,
   "id": "f675bcdc",
   "metadata": {},
   "outputs": [
    {
     "data": {
      "text/plain": [
       "0.9999403"
      ]
     },
     "execution_count": 49,
     "metadata": {},
     "output_type": "execute_result"
    }
   ],
   "source": [
    "y_pred[0][0]"
   ]
  },
  {
   "cell_type": "code",
   "execution_count": 50,
   "id": "dd4699de",
   "metadata": {},
   "outputs": [
    {
     "name": "stdout",
     "output_type": "stream",
     "text": [
      "1/1 [==============================] - 1s 1s/step\n"
     ]
    }
   ],
   "source": [
    "sample1=cv2.imread(\"test/with_mask/26.png\")\n",
    "sample1=cv2.resize(sample1,(224,224))\n",
    "y_pred=model.predict(sample1.reshape(1,224,224,3))"
   ]
  },
  {
   "cell_type": "code",
   "execution_count": 51,
   "id": "7e838568",
   "metadata": {},
   "outputs": [
    {
     "data": {
      "text/plain": [
       "array([[6.3121843e-06]], dtype=float32)"
      ]
     },
     "execution_count": 51,
     "metadata": {},
     "output_type": "execute_result"
    }
   ],
   "source": [
    "y_pred"
   ]
  },
  {
   "cell_type": "code",
   "execution_count": 52,
   "id": "74e73567",
   "metadata": {},
   "outputs": [
    {
     "data": {
      "text/plain": [
       "6.3121843e-06"
      ]
     },
     "execution_count": 52,
     "metadata": {},
     "output_type": "execute_result"
    }
   ],
   "source": [
    "y_pred[0][0]"
   ]
  },
  {
   "cell_type": "code",
   "execution_count": 53,
   "id": "aa829e8b",
   "metadata": {},
   "outputs": [
    {
     "name": "stdout",
     "output_type": "stream",
     "text": [
      "Mask\n"
     ]
    }
   ],
   "source": [
    "if y_pred>0.5:\n",
    "    print(\"without mask\")\n",
    "else:\n",
    "    print(\"Mask\")"
   ]
  },
  {
   "cell_type": "code",
   "execution_count": null,
   "id": "a0b0ab7f",
   "metadata": {},
   "outputs": [],
   "source": []
  }
 ],
 "metadata": {
  "kernelspec": {
   "display_name": "Python 3 (ipykernel)",
   "language": "python",
   "name": "python3"
  },
  "language_info": {
   "codemirror_mode": {
    "name": "ipython",
    "version": 3
   },
   "file_extension": ".py",
   "mimetype": "text/x-python",
   "name": "python",
   "nbconvert_exporter": "python",
   "pygments_lexer": "ipython3",
   "version": "3.9.13"
  }
 },
 "nbformat": 4,
 "nbformat_minor": 5
}
